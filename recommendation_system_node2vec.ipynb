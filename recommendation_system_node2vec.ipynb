{
 "cells": [
  {
   "cell_type": "code",
   "execution_count": 7,
   "id": "6df8c8c7",
   "metadata": {},
   "outputs": [],
   "source": [
    "import numpy as np \n",
    "import pandas as pd\n",
    "import networkx as nx #create and store graph\n",
    "from node2vec import Node2Vec #To run node2vec algorithm\n",
    "import os"
   ]
  },
  {
   "cell_type": "code",
   "execution_count": 8,
   "id": "d27cfa8f",
   "metadata": {},
   "outputs": [],
   "source": [
    "df=pd.read_csv('netflix_titles.csv')"
   ]
  },
  {
   "cell_type": "code",
   "execution_count": 9,
   "id": "6aaa320c",
   "metadata": {},
   "outputs": [
    {
     "data": {
      "text/html": [
       "<div>\n",
       "<style scoped>\n",
       "    .dataframe tbody tr th:only-of-type {\n",
       "        vertical-align: middle;\n",
       "    }\n",
       "\n",
       "    .dataframe tbody tr th {\n",
       "        vertical-align: top;\n",
       "    }\n",
       "\n",
       "    .dataframe thead th {\n",
       "        text-align: right;\n",
       "    }\n",
       "</style>\n",
       "<table border=\"1\" class=\"dataframe\">\n",
       "  <thead>\n",
       "    <tr style=\"text-align: right;\">\n",
       "      <th></th>\n",
       "      <th>show_id</th>\n",
       "      <th>type</th>\n",
       "      <th>title</th>\n",
       "      <th>director</th>\n",
       "      <th>cast</th>\n",
       "      <th>country</th>\n",
       "      <th>date_added</th>\n",
       "      <th>release_year</th>\n",
       "      <th>rating</th>\n",
       "      <th>duration</th>\n",
       "      <th>listed_in</th>\n",
       "    </tr>\n",
       "  </thead>\n",
       "  <tbody>\n",
       "    <tr>\n",
       "      <th>0</th>\n",
       "      <td>81145628</td>\n",
       "      <td>Movie</td>\n",
       "      <td>Norm of the North: King Sized Adventure</td>\n",
       "      <td>Richard Finn, Tim Maltby</td>\n",
       "      <td>Alan Marriott, Andrew Toth, Brian Dobson, Cole...</td>\n",
       "      <td>United States, India, South Korea, China</td>\n",
       "      <td>September 9, 2019</td>\n",
       "      <td>2019</td>\n",
       "      <td>TV-PG</td>\n",
       "      <td>90 min</td>\n",
       "      <td>Children &amp; Family Movies, Comedies</td>\n",
       "    </tr>\n",
       "    <tr>\n",
       "      <th>4</th>\n",
       "      <td>80125979</td>\n",
       "      <td>Movie</td>\n",
       "      <td>#realityhigh</td>\n",
       "      <td>Fernando Lebrija</td>\n",
       "      <td>Nesta Cooper, Kate Walsh, John Michael Higgins...</td>\n",
       "      <td>United States</td>\n",
       "      <td>September 8, 2017</td>\n",
       "      <td>2017</td>\n",
       "      <td>TV-14</td>\n",
       "      <td>99 min</td>\n",
       "      <td>Comedies</td>\n",
       "    </tr>\n",
       "    <tr>\n",
       "      <th>6</th>\n",
       "      <td>70304989</td>\n",
       "      <td>Movie</td>\n",
       "      <td>Automata</td>\n",
       "      <td>Gabe Ibáñez</td>\n",
       "      <td>Antonio Banderas, Dylan McDermott, Melanie Gri...</td>\n",
       "      <td>Bulgaria, United States, Spain, Canada</td>\n",
       "      <td>September 8, 2017</td>\n",
       "      <td>2014</td>\n",
       "      <td>R</td>\n",
       "      <td>110 min</td>\n",
       "      <td>International Movies, Sci-Fi &amp; Fantasy, Thrillers</td>\n",
       "    </tr>\n",
       "    <tr>\n",
       "      <th>7</th>\n",
       "      <td>80164077</td>\n",
       "      <td>Movie</td>\n",
       "      <td>Fabrizio Copano: Solo pienso en mi</td>\n",
       "      <td>Rodrigo Toro, Francisco Schultz</td>\n",
       "      <td>Fabrizio Copano</td>\n",
       "      <td>Chile</td>\n",
       "      <td>September 8, 2017</td>\n",
       "      <td>2017</td>\n",
       "      <td>TV-MA</td>\n",
       "      <td>60 min</td>\n",
       "      <td>Stand-Up Comedy</td>\n",
       "    </tr>\n",
       "    <tr>\n",
       "      <th>9</th>\n",
       "      <td>70304990</td>\n",
       "      <td>Movie</td>\n",
       "      <td>Good People</td>\n",
       "      <td>Henrik Ruben Genz</td>\n",
       "      <td>James Franco, Kate Hudson, Tom Wilkinson, Omar...</td>\n",
       "      <td>United States, United Kingdom, Denmark, Sweden</td>\n",
       "      <td>September 8, 2017</td>\n",
       "      <td>2014</td>\n",
       "      <td>R</td>\n",
       "      <td>90 min</td>\n",
       "      <td>Action &amp; Adventure, Thrillers</td>\n",
       "    </tr>\n",
       "  </tbody>\n",
       "</table>\n",
       "</div>"
      ],
      "text/plain": [
       "    show_id   type                                    title  \\\n",
       "0  81145628  Movie  Norm of the North: King Sized Adventure   \n",
       "4  80125979  Movie                             #realityhigh   \n",
       "6  70304989  Movie                                 Automata   \n",
       "7  80164077  Movie       Fabrizio Copano: Solo pienso en mi   \n",
       "9  70304990  Movie                              Good People   \n",
       "\n",
       "                          director  \\\n",
       "0         Richard Finn, Tim Maltby   \n",
       "4                 Fernando Lebrija   \n",
       "6                      Gabe Ibáñez   \n",
       "7  Rodrigo Toro, Francisco Schultz   \n",
       "9                Henrik Ruben Genz   \n",
       "\n",
       "                                                cast  \\\n",
       "0  Alan Marriott, Andrew Toth, Brian Dobson, Cole...   \n",
       "4  Nesta Cooper, Kate Walsh, John Michael Higgins...   \n",
       "6  Antonio Banderas, Dylan McDermott, Melanie Gri...   \n",
       "7                                    Fabrizio Copano   \n",
       "9  James Franco, Kate Hudson, Tom Wilkinson, Omar...   \n",
       "\n",
       "                                          country         date_added  \\\n",
       "0        United States, India, South Korea, China  September 9, 2019   \n",
       "4                                   United States  September 8, 2017   \n",
       "6          Bulgaria, United States, Spain, Canada  September 8, 2017   \n",
       "7                                           Chile  September 8, 2017   \n",
       "9  United States, United Kingdom, Denmark, Sweden  September 8, 2017   \n",
       "\n",
       "   release_year rating duration  \\\n",
       "0          2019  TV-PG   90 min   \n",
       "4          2017  TV-14   99 min   \n",
       "6          2014      R  110 min   \n",
       "7          2017  TV-MA   60 min   \n",
       "9          2014      R   90 min   \n",
       "\n",
       "                                           listed_in  \n",
       "0                 Children & Family Movies, Comedies  \n",
       "4                                           Comedies  \n",
       "6  International Movies, Sci-Fi & Fantasy, Thrillers  \n",
       "7                                    Stand-Up Comedy  \n",
       "9                      Action & Adventure, Thrillers  "
      ]
     },
     "execution_count": 9,
     "metadata": {},
     "output_type": "execute_result"
    }
   ],
   "source": [
    "df=df.dropna()\n",
    "df=df.drop(['description'],axis=1)\n",
    "df.head()"
   ]
  },
  {
   "cell_type": "code",
   "execution_count": 10,
   "id": "6aca0a8d",
   "metadata": {},
   "outputs": [
    {
     "data": {
      "text/plain": [
       "False"
      ]
     },
     "execution_count": 10,
     "metadata": {},
     "output_type": "execute_result"
    }
   ],
   "source": [
    "df['title'].is_unique"
   ]
  },
  {
   "cell_type": "code",
   "execution_count": 11,
   "id": "02011469",
   "metadata": {},
   "outputs": [
    {
     "name": "stdout",
     "output_type": "stream",
     "text": [
      "             show_id  type  director  cast  country  date_added  release_year  \\\n",
      "title                                                                           \n",
      "Benji              2     2         2     2        2           2             2   \n",
      "Blood Money        2     2         2     2        2           2             2   \n",
      "\n",
      "             rating  duration  listed_in  \n",
      "title                                     \n",
      "Benji             2         2          2  \n",
      "Blood Money       2         2          2  \n"
     ]
    }
   ],
   "source": [
    "df2=df.groupby(['title']).count()\n",
    "print(df2[df2['show_id']>1][0:2]) \n",
    "#Print the lists of titles appearing more than one time"
   ]
  },
  {
   "cell_type": "code",
   "execution_count": 12,
   "id": "bfa71d93",
   "metadata": {},
   "outputs": [
    {
     "data": {
      "text/html": [
       "<div>\n",
       "<style scoped>\n",
       "    .dataframe tbody tr th:only-of-type {\n",
       "        vertical-align: middle;\n",
       "    }\n",
       "\n",
       "    .dataframe tbody tr th {\n",
       "        vertical-align: top;\n",
       "    }\n",
       "\n",
       "    .dataframe thead th {\n",
       "        text-align: right;\n",
       "    }\n",
       "</style>\n",
       "<table border=\"1\" class=\"dataframe\">\n",
       "  <thead>\n",
       "    <tr style=\"text-align: right;\">\n",
       "      <th></th>\n",
       "      <th>show_id</th>\n",
       "      <th>type</th>\n",
       "      <th>title</th>\n",
       "      <th>director</th>\n",
       "      <th>cast</th>\n",
       "      <th>country</th>\n",
       "      <th>date_added</th>\n",
       "      <th>release_year</th>\n",
       "      <th>rating</th>\n",
       "      <th>duration</th>\n",
       "      <th>listed_in</th>\n",
       "    </tr>\n",
       "  </thead>\n",
       "  <tbody>\n",
       "    <tr>\n",
       "      <th>1969</th>\n",
       "      <td>296682</td>\n",
       "      <td>Movie</td>\n",
       "      <td>Benji</td>\n",
       "      <td>Joe Camp</td>\n",
       "      <td>Benji, Deborah Walley, Peter Breck, Edgar Buch...</td>\n",
       "      <td>United States</td>\n",
       "      <td>March 6, 2018</td>\n",
       "      <td>1974</td>\n",
       "      <td>G</td>\n",
       "      <td>86 min</td>\n",
       "      <td>Children &amp; Family Movies, Classic Movies</td>\n",
       "    </tr>\n",
       "    <tr>\n",
       "      <th>2159</th>\n",
       "      <td>80204923</td>\n",
       "      <td>Movie</td>\n",
       "      <td>Benji</td>\n",
       "      <td>Brandon Camp</td>\n",
       "      <td>Gabriel Bateman, Darby Camp, Kiele Sanchez, Je...</td>\n",
       "      <td>United Arab Emirates, United States</td>\n",
       "      <td>March 16, 2018</td>\n",
       "      <td>2018</td>\n",
       "      <td>TV-PG</td>\n",
       "      <td>87 min</td>\n",
       "      <td>Children &amp; Family Movies, Dramas</td>\n",
       "    </tr>\n",
       "  </tbody>\n",
       "</table>\n",
       "</div>"
      ],
      "text/plain": [
       "       show_id   type  title      director  \\\n",
       "1969    296682  Movie  Benji      Joe Camp   \n",
       "2159  80204923  Movie  Benji  Brandon Camp   \n",
       "\n",
       "                                                   cast  \\\n",
       "1969  Benji, Deborah Walley, Peter Breck, Edgar Buch...   \n",
       "2159  Gabriel Bateman, Darby Camp, Kiele Sanchez, Je...   \n",
       "\n",
       "                                  country      date_added  release_year  \\\n",
       "1969                        United States   March 6, 2018          1974   \n",
       "2159  United Arab Emirates, United States  March 16, 2018          2018   \n",
       "\n",
       "     rating duration                                 listed_in  \n",
       "1969      G   86 min  Children & Family Movies, Classic Movies  \n",
       "2159  TV-PG   87 min          Children & Family Movies, Dramas  "
      ]
     },
     "execution_count": 12,
     "metadata": {},
     "output_type": "execute_result"
    }
   ],
   "source": [
    "df[df['title']=='Benji']"
   ]
  },
  {
   "cell_type": "code",
   "execution_count": 13,
   "id": "55e5694f",
   "metadata": {},
   "outputs": [
    {
     "data": {
      "text/plain": [
       "False"
      ]
     },
     "execution_count": 13,
     "metadata": {},
     "output_type": "execute_result"
    }
   ],
   "source": [
    "df['title']=df['title']+', '+df['date_added']\n",
    "df['title'].is_unique"
   ]
  },
  {
   "cell_type": "code",
   "execution_count": 14,
   "id": "1ef9e1e1",
   "metadata": {},
   "outputs": [
    {
     "data": {
      "text/html": [
       "<div>\n",
       "<style scoped>\n",
       "    .dataframe tbody tr th:only-of-type {\n",
       "        vertical-align: middle;\n",
       "    }\n",
       "\n",
       "    .dataframe tbody tr th {\n",
       "        vertical-align: top;\n",
       "    }\n",
       "\n",
       "    .dataframe thead th {\n",
       "        text-align: right;\n",
       "    }\n",
       "</style>\n",
       "<table border=\"1\" class=\"dataframe\">\n",
       "  <thead>\n",
       "    <tr style=\"text-align: right;\">\n",
       "      <th></th>\n",
       "      <th>show_id</th>\n",
       "      <th>type</th>\n",
       "      <th>title</th>\n",
       "      <th>director</th>\n",
       "      <th>cast</th>\n",
       "      <th>country</th>\n",
       "      <th>date_added</th>\n",
       "      <th>release_year</th>\n",
       "      <th>rating</th>\n",
       "      <th>duration</th>\n",
       "      <th>listed_in</th>\n",
       "    </tr>\n",
       "  </thead>\n",
       "  <tbody>\n",
       "    <tr>\n",
       "      <th>2387</th>\n",
       "      <td>80244078</td>\n",
       "      <td>Movie</td>\n",
       "      <td>The Silence, March 1, 2018</td>\n",
       "      <td>Gajendra Ahire</td>\n",
       "      <td>Raghuvir Yadav, Nagraj Manjule, Anjali Patil, ...</td>\n",
       "      <td>India</td>\n",
       "      <td>March 1, 2018</td>\n",
       "      <td>2017</td>\n",
       "      <td>TV-MA</td>\n",
       "      <td>90 min</td>\n",
       "      <td>Dramas, International Movies</td>\n",
       "    </tr>\n",
       "    <tr>\n",
       "      <th>2388</th>\n",
       "      <td>80238292</td>\n",
       "      <td>Movie</td>\n",
       "      <td>The Silence, March 1, 2018</td>\n",
       "      <td>Gajendra Ahire</td>\n",
       "      <td>Raghuvir Yadav, Nagraj Manjule, Anjali Patil, ...</td>\n",
       "      <td>India</td>\n",
       "      <td>March 1, 2018</td>\n",
       "      <td>2015</td>\n",
       "      <td>TV-MA</td>\n",
       "      <td>91 min</td>\n",
       "      <td>Dramas, International Movies</td>\n",
       "    </tr>\n",
       "  </tbody>\n",
       "</table>\n",
       "</div>"
      ],
      "text/plain": [
       "       show_id   type                       title        director  \\\n",
       "2387  80244078  Movie  The Silence, March 1, 2018  Gajendra Ahire   \n",
       "2388  80238292  Movie  The Silence, March 1, 2018  Gajendra Ahire   \n",
       "\n",
       "                                                   cast country  \\\n",
       "2387  Raghuvir Yadav, Nagraj Manjule, Anjali Patil, ...   India   \n",
       "2388  Raghuvir Yadav, Nagraj Manjule, Anjali Patil, ...   India   \n",
       "\n",
       "         date_added  release_year rating duration  \\\n",
       "2387  March 1, 2018          2017  TV-MA   90 min   \n",
       "2388  March 1, 2018          2015  TV-MA   91 min   \n",
       "\n",
       "                         listed_in  \n",
       "2387  Dramas, International Movies  \n",
       "2388  Dramas, International Movies  "
      ]
     },
     "execution_count": 14,
     "metadata": {},
     "output_type": "execute_result"
    }
   ],
   "source": [
    "df[df['title']=='The Silence, March 1, 2018']"
   ]
  },
  {
   "cell_type": "code",
   "execution_count": 15,
   "id": "c8527b06",
   "metadata": {},
   "outputs": [
    {
     "data": {
      "text/plain": [
       "True"
      ]
     },
     "execution_count": 15,
     "metadata": {},
     "output_type": "execute_result"
    }
   ],
   "source": [
    "df.drop_duplicates(subset=['title'],keep = False, inplace = True) \n",
    "df['title'].is_unique"
   ]
  },
  {
   "cell_type": "code",
   "execution_count": 16,
   "id": "6690dcba",
   "metadata": {},
   "outputs": [
    {
     "data": {
      "text/html": [
       "<div>\n",
       "<style scoped>\n",
       "    .dataframe tbody tr th:only-of-type {\n",
       "        vertical-align: middle;\n",
       "    }\n",
       "\n",
       "    .dataframe tbody tr th {\n",
       "        vertical-align: top;\n",
       "    }\n",
       "\n",
       "    .dataframe thead th {\n",
       "        text-align: right;\n",
       "    }\n",
       "</style>\n",
       "<table border=\"1\" class=\"dataframe\">\n",
       "  <thead>\n",
       "    <tr style=\"text-align: right;\">\n",
       "      <th></th>\n",
       "      <th>show_id</th>\n",
       "      <th>type</th>\n",
       "      <th>title</th>\n",
       "      <th>director</th>\n",
       "      <th>cast</th>\n",
       "      <th>country</th>\n",
       "      <th>date_added</th>\n",
       "      <th>release_year</th>\n",
       "      <th>rating</th>\n",
       "      <th>duration</th>\n",
       "      <th>listed_in</th>\n",
       "    </tr>\n",
       "  </thead>\n",
       "  <tbody>\n",
       "    <tr>\n",
       "      <th>0</th>\n",
       "      <td>81145628</td>\n",
       "      <td>Movie</td>\n",
       "      <td>Norm of the North: King Sized Adventure, Septe...</td>\n",
       "      <td>Richard Finn, Tim Maltby</td>\n",
       "      <td>Alan Marriott, Andrew Toth, Brian Dobson, Cole...</td>\n",
       "      <td>United States, India, South Korea, China</td>\n",
       "      <td>September 9, 2019</td>\n",
       "      <td>2019</td>\n",
       "      <td>TV-PG</td>\n",
       "      <td>90 min</td>\n",
       "      <td>Children &amp; Family Movies, Comedies</td>\n",
       "    </tr>\n",
       "    <tr>\n",
       "      <th>4</th>\n",
       "      <td>80125979</td>\n",
       "      <td>Movie</td>\n",
       "      <td>#realityhigh, September 8, 2017</td>\n",
       "      <td>Fernando Lebrija</td>\n",
       "      <td>Nesta Cooper, Kate Walsh, John Michael Higgins...</td>\n",
       "      <td>United States</td>\n",
       "      <td>September 8, 2017</td>\n",
       "      <td>2017</td>\n",
       "      <td>TV-14</td>\n",
       "      <td>99 min</td>\n",
       "      <td>Comedies</td>\n",
       "    </tr>\n",
       "    <tr>\n",
       "      <th>6</th>\n",
       "      <td>70304989</td>\n",
       "      <td>Movie</td>\n",
       "      <td>Automata, September 8, 2017</td>\n",
       "      <td>Gabe Ibáñez</td>\n",
       "      <td>Antonio Banderas, Dylan McDermott, Melanie Gri...</td>\n",
       "      <td>Bulgaria, United States, Spain, Canada</td>\n",
       "      <td>September 8, 2017</td>\n",
       "      <td>2014</td>\n",
       "      <td>R</td>\n",
       "      <td>110 min</td>\n",
       "      <td>International Movies, Sci-Fi &amp; Fantasy, Thrillers</td>\n",
       "    </tr>\n",
       "    <tr>\n",
       "      <th>7</th>\n",
       "      <td>80164077</td>\n",
       "      <td>Movie</td>\n",
       "      <td>Fabrizio Copano: Solo pienso en mi, September ...</td>\n",
       "      <td>Rodrigo Toro, Francisco Schultz</td>\n",
       "      <td>Fabrizio Copano</td>\n",
       "      <td>Chile</td>\n",
       "      <td>September 8, 2017</td>\n",
       "      <td>2017</td>\n",
       "      <td>TV-MA</td>\n",
       "      <td>60 min</td>\n",
       "      <td>Stand-Up Comedy</td>\n",
       "    </tr>\n",
       "    <tr>\n",
       "      <th>9</th>\n",
       "      <td>70304990</td>\n",
       "      <td>Movie</td>\n",
       "      <td>Good People, September 8, 2017</td>\n",
       "      <td>Henrik Ruben Genz</td>\n",
       "      <td>James Franco, Kate Hudson, Tom Wilkinson, Omar...</td>\n",
       "      <td>United States, United Kingdom, Denmark, Sweden</td>\n",
       "      <td>September 8, 2017</td>\n",
       "      <td>2014</td>\n",
       "      <td>R</td>\n",
       "      <td>90 min</td>\n",
       "      <td>Action &amp; Adventure, Thrillers</td>\n",
       "    </tr>\n",
       "  </tbody>\n",
       "</table>\n",
       "</div>"
      ],
      "text/plain": [
       "    show_id   type                                              title  \\\n",
       "0  81145628  Movie  Norm of the North: King Sized Adventure, Septe...   \n",
       "4  80125979  Movie                    #realityhigh, September 8, 2017   \n",
       "6  70304989  Movie                        Automata, September 8, 2017   \n",
       "7  80164077  Movie  Fabrizio Copano: Solo pienso en mi, September ...   \n",
       "9  70304990  Movie                     Good People, September 8, 2017   \n",
       "\n",
       "                          director  \\\n",
       "0         Richard Finn, Tim Maltby   \n",
       "4                 Fernando Lebrija   \n",
       "6                      Gabe Ibáñez   \n",
       "7  Rodrigo Toro, Francisco Schultz   \n",
       "9                Henrik Ruben Genz   \n",
       "\n",
       "                                                cast  \\\n",
       "0  Alan Marriott, Andrew Toth, Brian Dobson, Cole...   \n",
       "4  Nesta Cooper, Kate Walsh, John Michael Higgins...   \n",
       "6  Antonio Banderas, Dylan McDermott, Melanie Gri...   \n",
       "7                                    Fabrizio Copano   \n",
       "9  James Franco, Kate Hudson, Tom Wilkinson, Omar...   \n",
       "\n",
       "                                          country         date_added  \\\n",
       "0        United States, India, South Korea, China  September 9, 2019   \n",
       "4                                   United States  September 8, 2017   \n",
       "6          Bulgaria, United States, Spain, Canada  September 8, 2017   \n",
       "7                                           Chile  September 8, 2017   \n",
       "9  United States, United Kingdom, Denmark, Sweden  September 8, 2017   \n",
       "\n",
       "   release_year rating duration  \\\n",
       "0          2019  TV-PG   90 min   \n",
       "4          2017  TV-14   99 min   \n",
       "6          2014      R  110 min   \n",
       "7          2017  TV-MA   60 min   \n",
       "9          2014      R   90 min   \n",
       "\n",
       "                                           listed_in  \n",
       "0                 Children & Family Movies, Comedies  \n",
       "4                                           Comedies  \n",
       "6  International Movies, Sci-Fi & Fantasy, Thrillers  \n",
       "7                                    Stand-Up Comedy  \n",
       "9                      Action & Adventure, Thrillers  "
      ]
     },
     "execution_count": 16,
     "metadata": {},
     "output_type": "execute_result"
    }
   ],
   "source": [
    "df.head()"
   ]
  },
  {
   "cell_type": "code",
   "execution_count": 17,
   "id": "8a023d49",
   "metadata": {},
   "outputs": [],
   "source": [
    "# function that will create edges for given movie title and its genres\n",
    "def addToGraph(movie_name,graph):\n",
    "    genres=df[df['title']==movie_name]['listed_in'].values[0].rstrip().lower().split(', ')\n",
    "    for genre in genres:\n",
    "        graph.add_edge(movie_name.strip(),genre)\n",
    "    return graph\n",
    "\n",
    "#function that will create graph for all the movies name\n",
    "def createGraph():\n",
    "    graph = nx.Graph()\n",
    "    for movie_name in df['title']:\n",
    "        graph=addToGraph(movie_name,graph)\n",
    "    return graph"
   ]
  },
  {
   "cell_type": "code",
   "execution_count": 18,
   "id": "3578ab27",
   "metadata": {},
   "outputs": [],
   "source": [
    "graph=createGraph()"
   ]
  },
  {
   "cell_type": "code",
   "execution_count": 19,
   "id": "e52dd8a2",
   "metadata": {},
   "outputs": [
    {
     "name": "stdout",
     "output_type": "stream",
     "text": [
      "2\n",
      "1\n"
     ]
    }
   ],
   "source": [
    "print(graph.degree()['Norm of the North: King Sized Adventure, September 9, 2019']) #should be 2 since two genres are assoicated with it\n",
    "print(graph.degree()['#realityhigh, September 8, 2017']) #shoukd be 1 since 1 genres are assoicated with it"
   ]
  },
  {
   "cell_type": "code",
   "execution_count": 20,
   "id": "1acf935d",
   "metadata": {},
   "outputs": [
    {
     "data": {
      "application/vnd.jupyter.widget-view+json": {
       "model_id": "84de1f4b57a04fffa85bb82b7b0b3d63",
       "version_major": 2,
       "version_minor": 0
      },
      "text/plain": [
       "Computing transition probabilities:   0%|          | 0/3812 [00:00<?, ?it/s]"
      ]
     },
     "metadata": {},
     "output_type": "display_data"
    },
    {
     "name": "stderr",
     "output_type": "stream",
     "text": [
      "Generating walks (CPU: 1): 100%|███████████████████████████████████████████████████████| 10/10 [00:24<00:00,  2.43s/it]\n"
     ]
    }
   ],
   "source": [
    "node2vec = Node2Vec(graph, dimensions=20, walk_length=16, num_walks=10)"
   ]
  },
  {
   "cell_type": "code",
   "execution_count": 22,
   "id": "e8252487",
   "metadata": {},
   "outputs": [],
   "source": [
    "model = node2vec.fit(window=5, min_count=1)"
   ]
  },
  {
   "cell_type": "code",
   "execution_count": 23,
   "id": "dded55ff",
   "metadata": {},
   "outputs": [
    {
     "data": {
      "text/plain": [
       "array([-1.0217216 ,  0.48553717, -0.49347752, -0.734115  ,  0.29773647,\n",
       "       -0.4953884 ,  1.0518061 ,  0.62988544,  0.26297235,  0.19540767,\n",
       "        0.26046297, -0.31070524,  0.25924087, -0.23208758, -0.12277203,\n",
       "       -0.0331669 ,  0.29378498, -0.2849092 , -0.19101524, -1.0352458 ],\n",
       "      dtype=float32)"
      ]
     },
     "execution_count": 23,
     "metadata": {},
     "output_type": "execute_result"
    }
   ],
   "source": [
    "model.wv.get_vector('Ralph Breaks the Internet: Wreck-It Ralph 2, June 11, 2019')"
   ]
  },
  {
   "cell_type": "code",
   "execution_count": 24,
   "id": "c3db67c1",
   "metadata": {},
   "outputs": [
    {
     "data": {
      "text/plain": [
       "array([ 0.32111132,  0.02899113, -0.33117306,  0.15517344, -0.4562063 ,\n",
       "        0.55812687,  1.1921618 ,  0.49982786, -0.26728487,  0.66850716,\n",
       "        1.3272952 , -0.25055474, -1.042387  , -1.1036918 , -0.28456622,\n",
       "        0.8215388 ,  1.2093759 ,  0.90895814,  0.13174611, -0.7979148 ],\n",
       "      dtype=float32)"
      ]
     },
     "execution_count": 24,
     "metadata": {},
     "output_type": "execute_result"
    }
   ],
   "source": [
    "model.wv.get_vector('Transformer, February 20, 2019')"
   ]
  },
  {
   "cell_type": "code",
   "execution_count": 26,
   "id": "9b7d661d",
   "metadata": {},
   "outputs": [],
   "source": [
    "#generate similiar movies to given genre or title\n",
    "def print_similiar(name):\n",
    "    for node, _ in model.wv.most_similar(name):\n",
    "        print(node)"
   ]
  },
  {
   "cell_type": "code",
   "execution_count": 27,
   "id": "770652b7",
   "metadata": {},
   "outputs": [
    {
     "name": "stdout",
     "output_type": "stream",
     "text": [
      "You Can Tutu, December 31, 2017\n",
      "Monster High: Ghouls Rule, March 1, 2018\n",
      "Balto 3: Wings of Change, April 1, 2018\n",
      "Barbie: Spy Squad, October 1, 2017\n",
      "An American Tail: Fievel Goes West, April 1, 2018\n",
      "Tarzan 2, June 23, 2017\n",
      "Annabelle Hooper and the Ghosts of Nantucket, August 1, 2017\n",
      "The Water Horse: Legend of the Deep, November 1, 2018\n",
      "Welcome to Monster High: The Origin Story, October 1, 2017\n",
      "Monster High: Freaky Fusion, January 30, 2018\n"
     ]
    }
   ],
   "source": [
    "print_similiar('children & family movies')\n",
    "#As we can see most movies like \"Barbie\", \"sKrish Trish and Baltiboy\" are indeed children movies and shows"
   ]
  },
  {
   "cell_type": "code",
   "execution_count": 28,
   "id": "928a7096",
   "metadata": {},
   "outputs": [
    {
     "name": "stdout",
     "output_type": "stream",
     "text": [
      "Ghost Pain, February 24, 2019\n",
      "EVANGELION: DEATH (TRUE)², June 21, 2019\n",
      "Ghost Tears, February 24, 2019\n",
      "InuYasha: The Movie 2: The Castle Beyond the Looking Glass, September 1, 2017\n",
      "Berserk: The Golden Age Arc I - The Egg of the King, October 15, 2016\n",
      "The End of Evangelion, June 21, 2019\n",
      "GODZILLA The Planet Eater, January 9, 2019\n",
      "Inuyasha the Movie - L'isola del fuoco scarlatto, September 1, 2017\n",
      "Naruto the Movie: Ninja Clash in the Land of Snow, September 1, 2017\n",
      "InuYasha the Movie: Affections Touching Across Time, August 25, 2018\n"
     ]
    }
   ],
   "source": [
    "print_similiar('Naruto Shippuden : Blood Prison, September 1, 2017')\n",
    "# We get results like another naruto series, seven deadly sins which are really good recommendation."
   ]
  },
  {
   "cell_type": "code",
   "execution_count": null,
   "id": "d7df63b6",
   "metadata": {},
   "outputs": [],
   "source": []
  }
 ],
 "metadata": {
  "kernelspec": {
   "display_name": "Python 3 (ipykernel)",
   "language": "python",
   "name": "python3"
  },
  "language_info": {
   "codemirror_mode": {
    "name": "ipython",
    "version": 3
   },
   "file_extension": ".py",
   "mimetype": "text/x-python",
   "name": "python",
   "nbconvert_exporter": "python",
   "pygments_lexer": "ipython3",
   "version": "3.9.12"
  }
 },
 "nbformat": 4,
 "nbformat_minor": 5
}

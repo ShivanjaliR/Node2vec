{
 "cells": [
  {
   "cell_type": "code",
   "execution_count": 25,
   "id": "b5eba0ac",
   "metadata": {},
   "outputs": [
    {
     "name": "stdout",
     "output_type": "stream",
     "text": [
      "Vector for the word 'dog':\n",
      "[ 0.37317744  0.2840833   0.51913303 -0.39616898 -0.1868205  -0.38689175\n",
      " -0.18574491  0.8040775  -0.12914044  0.67475605  0.0765698  -0.19031641\n",
      " -0.06423004  0.23903936 -0.41079667 -0.48654833  0.40192747 -0.8895808\n",
      "  0.37836674 -0.15813075 -0.25775707  0.407354    0.20527261 -0.02918209\n",
      " -0.59776664  0.21983716 -0.26860732 -0.48327056 -0.6615637  -0.094823\n",
      "  0.35487562 -0.19943158  0.35836864 -0.52419466  0.04060641 -0.20734704\n",
      " -0.0347307  -0.10782905 -0.5373184  -0.9002296  -0.09161879 -0.06614374\n",
      " -0.16082416 -0.34376842  0.21811746  0.12481853 -0.4730433  -0.6304944\n",
      "  0.51691115  0.48806044  0.00271875 -0.15937702 -0.17321134  0.15609568\n",
      "  0.10137052 -0.0254801  -0.0103628   0.3407614  -0.07526884  0.38199565\n",
      " -0.32974306  0.2056692   0.11282296  0.2563622   0.0145723   0.21066123\n",
      "  0.18997975 -0.0743366  -0.11505087 -0.05177261  0.70313233  0.13732682\n",
      "  0.37825733  0.3402722   0.1503431  -0.45366344  0.16792554  0.53277206\n",
      " -0.01837344  0.31641537 -0.4806236   0.1332187  -0.24428426 -0.3306666\n",
      "  0.09380066 -0.5807347  -0.22624314 -0.06524619  0.26859167  0.30404922\n",
      "  0.40893704 -0.24544628  0.18071392 -0.12658198 -0.07427288  0.18976288\n",
      " -0.3090587   0.0934824   0.10389579  0.5551563 ]\n",
      "\n",
      "Most similar words to 'dog':\n",
      "hound: 0.76\n",
      "dachshund: 0.76\n",
      "dogs: 0.75\n",
      "badger: 0.74\n",
      "sighthound: 0.73\n"
     ]
    }
   ],
   "source": [
    "import gensim.downloader as api\n",
    "from gensim.models import Word2Vec\n",
    "\n",
    "# Download the Wikipedia text corpus (already preprocessed and tokenized)\n",
    "corpus = api.load(\"text8\")\n",
    "\n",
    "# Create and train the Word2Vec model\n",
    "model = Word2Vec(sentences=corpus, vector_size=100, window=5, sg=1, min_count=1, workers=4)\n",
    "\n",
    "# Save the trained model to a file\n",
    "model.save(\"wiki_word2vec_model\")\n",
    "\n",
    "# Load the model later if needed\n",
    "loaded_model = Word2Vec.load(\"wiki_word2vec_model\")\n",
    "\n",
    "# Access word vectors\n",
    "word = 'dog'\n",
    "\n",
    "if word in loaded_model.wv:\n",
    "    vector = loaded_model.wv[word]  # Vector for the word 'dog'\n",
    "    print(\"Vector for the word 'dog':\")\n",
    "    print(vector)\n",
    "\n",
    "    # Find similar words\n",
    "    similar_words = loaded_model.wv.most_similar(word, topn=5)\n",
    "    print(\"\\nMost similar words to 'dog':\")\n",
    "    for similar_word, similarity in similar_words:\n",
    "        print(f\"{similar_word}: {similarity:.2f}\")\n",
    "else:\n",
    "    print(f\"'{word}' is not present in the vocabulary.\")\n"
   ]
  },
  {
   "cell_type": "code",
   "execution_count": null,
   "id": "c9d71e34",
   "metadata": {},
   "outputs": [],
   "source": []
  }
 ],
 "metadata": {
  "kernelspec": {
   "display_name": "Python 3 (ipykernel)",
   "language": "python",
   "name": "python3"
  },
  "language_info": {
   "codemirror_mode": {
    "name": "ipython",
    "version": 3
   },
   "file_extension": ".py",
   "mimetype": "text/x-python",
   "name": "python",
   "nbconvert_exporter": "python",
   "pygments_lexer": "ipython3",
   "version": "3.9.12"
  }
 },
 "nbformat": 4,
 "nbformat_minor": 5
}
